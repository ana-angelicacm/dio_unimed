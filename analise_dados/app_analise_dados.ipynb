{
 "cells": [
  {
   "cell_type": "markdown",
   "id": "94f7a720",
   "metadata": {},
   "source": [
    "# ANÁLISE DE DADOS"
   ]
  },
  {
   "cell_type": "markdown",
   "id": "043cb40b",
   "metadata": {},
   "source": [
    "## BIBLIOTECAS E CONFIGURAÇÕES"
   ]
  },
  {
   "cell_type": "code",
   "execution_count": 1,
   "id": "8599603b",
   "metadata": {
    "ExecuteTime": {
     "end_time": "2022-11-10T13:51:31.068262Z",
     "start_time": "2022-11-10T13:50:54.539952Z"
    }
   },
   "outputs": [],
   "source": [
    "import pandas                 as pd\n",
    "import numpy                  as np\n",
    "import matplotlib.pyplot      as plt\n",
    "import seaborn                as sns"
   ]
  },
  {
   "cell_type": "code",
   "execution_count": 2,
   "id": "5ed7ff80",
   "metadata": {
    "ExecuteTime": {
     "end_time": "2022-11-10T13:51:31.097282Z",
     "start_time": "2022-11-10T13:51:31.082272Z"
    }
   },
   "outputs": [],
   "source": [
    "sns.set_style('darkgrid')"
   ]
  },
  {
   "cell_type": "markdown",
   "id": "a51dd9a9",
   "metadata": {},
   "source": [
    "## FUNÇÕES"
   ]
  },
  {
   "cell_type": "code",
   "execution_count": 3,
   "id": "23a59d95",
   "metadata": {
    "ExecuteTime": {
     "end_time": "2022-11-10T13:51:31.325446Z",
     "start_time": "2022-11-10T13:51:31.108291Z"
    }
   },
   "outputs": [],
   "source": [
    "# configura os eixos do gráfico\n",
    "def axis_settings(x_label, y_label = ' ', fontsize = 12, x_rotation = 0, y_rotation = 0):\n",
    "    plt.xlabel(x_label, fontsize = fontsize)\n",
    "    plt.ylabel(y_label, fontsize = fontsize)\n",
    "    plt.xticks(fontsize = fontsize, rotation = x_rotation)\n",
    "    plt.yticks(fontsize = fontsize, rotation = y_rotation)"
   ]
  },
  {
   "cell_type": "markdown",
   "id": "48e85057",
   "metadata": {},
   "source": [
    "## 1. OBTENÇÃO DOS DADOS"
   ]
  },
  {
   "cell_type": "markdown",
   "id": "f64c54dc",
   "metadata": {},
   "source": [
    "Os dados usados nessa análise são referentes ao ano de 2017 e foram obtidos a partir do site [Kaggle](https://www.kaggle.com/datasets/ramamet4/app-store-apple-data-set-10k-apps?resource=download&sort=votes)."
   ]
  },
  {
   "cell_type": "code",
   "execution_count": 176,
   "id": "ae7a23c9",
   "metadata": {
    "ExecuteTime": {
     "end_time": "2022-11-10T17:09:34.397645Z",
     "start_time": "2022-11-10T17:09:34.285543Z"
    }
   },
   "outputs": [],
   "source": [
    "# leitura do arquivo\n",
    "df = pd.read_csv('AppleStore.csv')"
   ]
  },
  {
   "cell_type": "markdown",
   "id": "c7b66ead",
   "metadata": {},
   "source": [
    "## 2. DESCRIÇÃO DOS DADOS"
   ]
  },
  {
   "cell_type": "markdown",
   "id": "084c0db8",
   "metadata": {},
   "source": [
    "### 2.1. Dicionário de variáveis"
   ]
  },
  {
   "cell_type": "markdown",
   "id": "5bddfa25",
   "metadata": {},
   "source": [
    "- **id**: identificados do aplicativo;\n",
    "- **track_name**: nome do aplicativo;\n",
    "- **size_bytes**: tamanho (em bytes);\n",
    "- **currency**: tipo de moeda;\n",
    "- **price**: preço;\n",
    "- **rating_count_tot**: contagens de classificação do usuário (para todas as versões);\n",
    "- **rating_count_ver**: contagens de classificação do usuário (para versão atual);\n",
    "- **user_rating**: valor médio da classificação do usuário (para todas as versões);\n",
    "- **user_rating_ver**: valor médio da classificação do usuário (para a versão atual);\n",
    "- **ver**: código da versão mais recente;\n",
    "- **cont_rating**: classificação do conteúdo;\n",
    "- **prime_genre**: gênero principal;\n",
    "- **sup_devices.num**: número de dispositivos de suporte;\n",
    "- **ipadSc_urls.num**: número de capturas de tela exibidas para exibição;\n",
    "- **lang.num**: número de idiomas suportados;\n",
    "- **vpp_lic**: licenciamento baseado em dispositivo Vpp ativado."
   ]
  },
  {
   "cell_type": "markdown",
   "id": "bf8f8980",
   "metadata": {},
   "source": [
    "### 2.2. Informações básicas"
   ]
  },
  {
   "cell_type": "code",
   "execution_count": 177,
   "id": "ca103d59",
   "metadata": {
    "ExecuteTime": {
     "end_time": "2022-11-10T17:09:37.243255Z",
     "start_time": "2022-11-10T17:09:37.177207Z"
    }
   },
   "outputs": [
    {
     "name": "stdout",
     "output_type": "stream",
     "text": [
      "<class 'pandas.core.frame.DataFrame'>\n",
      "RangeIndex: 7197 entries, 0 to 7196\n",
      "Data columns (total 17 columns):\n",
      " #   Column            Non-Null Count  Dtype  \n",
      "---  ------            --------------  -----  \n",
      " 0   Unnamed: 0        7197 non-null   int64  \n",
      " 1   id                7197 non-null   int64  \n",
      " 2   track_name        7197 non-null   object \n",
      " 3   size_bytes        7197 non-null   int64  \n",
      " 4   currency          7197 non-null   object \n",
      " 5   price             7197 non-null   float64\n",
      " 6   rating_count_tot  7197 non-null   int64  \n",
      " 7   rating_count_ver  7197 non-null   int64  \n",
      " 8   user_rating       7197 non-null   float64\n",
      " 9   user_rating_ver   7197 non-null   float64\n",
      " 10  ver               7197 non-null   object \n",
      " 11  cont_rating       7197 non-null   object \n",
      " 12  prime_genre       7197 non-null   object \n",
      " 13  sup_devices.num   7197 non-null   int64  \n",
      " 14  ipadSc_urls.num   7197 non-null   int64  \n",
      " 15  lang.num          7197 non-null   int64  \n",
      " 16  vpp_lic           7197 non-null   int64  \n",
      "dtypes: float64(3), int64(9), object(5)\n",
      "memory usage: 956.0+ KB\n"
     ]
    }
   ],
   "source": [
    "df.info()"
   ]
  },
  {
   "cell_type": "markdown",
   "id": "fdbbea6b",
   "metadata": {},
   "source": [
    "- O conjunto de dados possui 17 colunas e 7197 linhas;\n",
    "- Não há dados faltantes;\n",
    "- Não há nenhum dado que necessita uma mudança de tipo."
   ]
  },
  {
   "cell_type": "markdown",
   "id": "668f3965",
   "metadata": {},
   "source": [
    "### 2.3. Estatítica básica"
   ]
  },
  {
   "cell_type": "code",
   "execution_count": 178,
   "id": "b002b2b8",
   "metadata": {
    "ExecuteTime": {
     "end_time": "2022-11-10T17:09:40.175109Z",
     "start_time": "2022-11-10T17:09:39.987968Z"
    }
   },
   "outputs": [
    {
     "data": {
      "text/html": [
       "<div>\n",
       "<style scoped>\n",
       "    .dataframe tbody tr th:only-of-type {\n",
       "        vertical-align: middle;\n",
       "    }\n",
       "\n",
       "    .dataframe tbody tr th {\n",
       "        vertical-align: top;\n",
       "    }\n",
       "\n",
       "    .dataframe thead th {\n",
       "        text-align: right;\n",
       "    }\n",
       "</style>\n",
       "<table border=\"1\" class=\"dataframe\">\n",
       "  <thead>\n",
       "    <tr style=\"text-align: right;\">\n",
       "      <th></th>\n",
       "      <th>Unnamed: 0</th>\n",
       "      <th>id</th>\n",
       "      <th>size_bytes</th>\n",
       "      <th>price</th>\n",
       "      <th>rating_count_tot</th>\n",
       "      <th>rating_count_ver</th>\n",
       "      <th>user_rating</th>\n",
       "      <th>user_rating_ver</th>\n",
       "      <th>sup_devices.num</th>\n",
       "      <th>ipadSc_urls.num</th>\n",
       "      <th>lang.num</th>\n",
       "      <th>vpp_lic</th>\n",
       "    </tr>\n",
       "  </thead>\n",
       "  <tbody>\n",
       "    <tr>\n",
       "      <th>count</th>\n",
       "      <td>7197.000000</td>\n",
       "      <td>7.197000e+03</td>\n",
       "      <td>7.197000e+03</td>\n",
       "      <td>7197.000000</td>\n",
       "      <td>7.197000e+03</td>\n",
       "      <td>7197.000000</td>\n",
       "      <td>7197.000000</td>\n",
       "      <td>7197.000000</td>\n",
       "      <td>7197.000000</td>\n",
       "      <td>7197.000000</td>\n",
       "      <td>7197.000000</td>\n",
       "      <td>7197.000000</td>\n",
       "    </tr>\n",
       "    <tr>\n",
       "      <th>mean</th>\n",
       "      <td>4759.069612</td>\n",
       "      <td>8.631310e+08</td>\n",
       "      <td>1.991345e+08</td>\n",
       "      <td>1.726218</td>\n",
       "      <td>1.289291e+04</td>\n",
       "      <td>460.373906</td>\n",
       "      <td>3.526956</td>\n",
       "      <td>3.253578</td>\n",
       "      <td>37.361817</td>\n",
       "      <td>3.707100</td>\n",
       "      <td>5.434903</td>\n",
       "      <td>0.993053</td>\n",
       "    </tr>\n",
       "    <tr>\n",
       "      <th>std</th>\n",
       "      <td>3093.625213</td>\n",
       "      <td>2.712368e+08</td>\n",
       "      <td>3.592069e+08</td>\n",
       "      <td>5.833006</td>\n",
       "      <td>7.573941e+04</td>\n",
       "      <td>3920.455183</td>\n",
       "      <td>1.517948</td>\n",
       "      <td>1.809363</td>\n",
       "      <td>3.737715</td>\n",
       "      <td>1.986005</td>\n",
       "      <td>7.919593</td>\n",
       "      <td>0.083066</td>\n",
       "    </tr>\n",
       "    <tr>\n",
       "      <th>min</th>\n",
       "      <td>1.000000</td>\n",
       "      <td>2.816565e+08</td>\n",
       "      <td>5.898240e+05</td>\n",
       "      <td>0.000000</td>\n",
       "      <td>0.000000e+00</td>\n",
       "      <td>0.000000</td>\n",
       "      <td>0.000000</td>\n",
       "      <td>0.000000</td>\n",
       "      <td>9.000000</td>\n",
       "      <td>0.000000</td>\n",
       "      <td>0.000000</td>\n",
       "      <td>0.000000</td>\n",
       "    </tr>\n",
       "    <tr>\n",
       "      <th>25%</th>\n",
       "      <td>2090.000000</td>\n",
       "      <td>6.000937e+08</td>\n",
       "      <td>4.692275e+07</td>\n",
       "      <td>0.000000</td>\n",
       "      <td>2.800000e+01</td>\n",
       "      <td>1.000000</td>\n",
       "      <td>3.500000</td>\n",
       "      <td>2.500000</td>\n",
       "      <td>37.000000</td>\n",
       "      <td>3.000000</td>\n",
       "      <td>1.000000</td>\n",
       "      <td>1.000000</td>\n",
       "    </tr>\n",
       "    <tr>\n",
       "      <th>50%</th>\n",
       "      <td>4380.000000</td>\n",
       "      <td>9.781482e+08</td>\n",
       "      <td>9.715302e+07</td>\n",
       "      <td>0.000000</td>\n",
       "      <td>3.000000e+02</td>\n",
       "      <td>23.000000</td>\n",
       "      <td>4.000000</td>\n",
       "      <td>4.000000</td>\n",
       "      <td>37.000000</td>\n",
       "      <td>5.000000</td>\n",
       "      <td>1.000000</td>\n",
       "      <td>1.000000</td>\n",
       "    </tr>\n",
       "    <tr>\n",
       "      <th>75%</th>\n",
       "      <td>7223.000000</td>\n",
       "      <td>1.082310e+09</td>\n",
       "      <td>1.819249e+08</td>\n",
       "      <td>1.990000</td>\n",
       "      <td>2.793000e+03</td>\n",
       "      <td>140.000000</td>\n",
       "      <td>4.500000</td>\n",
       "      <td>4.500000</td>\n",
       "      <td>38.000000</td>\n",
       "      <td>5.000000</td>\n",
       "      <td>8.000000</td>\n",
       "      <td>1.000000</td>\n",
       "    </tr>\n",
       "    <tr>\n",
       "      <th>max</th>\n",
       "      <td>11097.000000</td>\n",
       "      <td>1.188376e+09</td>\n",
       "      <td>4.025970e+09</td>\n",
       "      <td>299.990000</td>\n",
       "      <td>2.974676e+06</td>\n",
       "      <td>177050.000000</td>\n",
       "      <td>5.000000</td>\n",
       "      <td>5.000000</td>\n",
       "      <td>47.000000</td>\n",
       "      <td>5.000000</td>\n",
       "      <td>75.000000</td>\n",
       "      <td>1.000000</td>\n",
       "    </tr>\n",
       "  </tbody>\n",
       "</table>\n",
       "</div>"
      ],
      "text/plain": [
       "         Unnamed: 0            id    size_bytes        price  \\\n",
       "count   7197.000000  7.197000e+03  7.197000e+03  7197.000000   \n",
       "mean    4759.069612  8.631310e+08  1.991345e+08     1.726218   \n",
       "std     3093.625213  2.712368e+08  3.592069e+08     5.833006   \n",
       "min        1.000000  2.816565e+08  5.898240e+05     0.000000   \n",
       "25%     2090.000000  6.000937e+08  4.692275e+07     0.000000   \n",
       "50%     4380.000000  9.781482e+08  9.715302e+07     0.000000   \n",
       "75%     7223.000000  1.082310e+09  1.819249e+08     1.990000   \n",
       "max    11097.000000  1.188376e+09  4.025970e+09   299.990000   \n",
       "\n",
       "       rating_count_tot  rating_count_ver  user_rating  user_rating_ver  \\\n",
       "count      7.197000e+03       7197.000000  7197.000000      7197.000000   \n",
       "mean       1.289291e+04        460.373906     3.526956         3.253578   \n",
       "std        7.573941e+04       3920.455183     1.517948         1.809363   \n",
       "min        0.000000e+00          0.000000     0.000000         0.000000   \n",
       "25%        2.800000e+01          1.000000     3.500000         2.500000   \n",
       "50%        3.000000e+02         23.000000     4.000000         4.000000   \n",
       "75%        2.793000e+03        140.000000     4.500000         4.500000   \n",
       "max        2.974676e+06     177050.000000     5.000000         5.000000   \n",
       "\n",
       "       sup_devices.num  ipadSc_urls.num     lang.num      vpp_lic  \n",
       "count      7197.000000      7197.000000  7197.000000  7197.000000  \n",
       "mean         37.361817         3.707100     5.434903     0.993053  \n",
       "std           3.737715         1.986005     7.919593     0.083066  \n",
       "min           9.000000         0.000000     0.000000     0.000000  \n",
       "25%          37.000000         3.000000     1.000000     1.000000  \n",
       "50%          37.000000         5.000000     1.000000     1.000000  \n",
       "75%          38.000000         5.000000     8.000000     1.000000  \n",
       "max          47.000000         5.000000    75.000000     1.000000  "
      ]
     },
     "execution_count": 178,
     "metadata": {},
     "output_type": "execute_result"
    }
   ],
   "source": [
    "df.describe()"
   ]
  },
  {
   "cell_type": "markdown",
   "id": "c3b816d4",
   "metadata": {},
   "source": [
    "- Há aplicativos gratuitos;\n",
    "- Há aplicativos com avaliação igual a zero;\n",
    "- Há aplicativos que não foram avaliados por nenhum usuário (aqui eu entendo como aplicativo sem usuários);\n",
    "- Há aplicativos sem suporte a idiomas."
   ]
  },
  {
   "cell_type": "markdown",
   "id": "d9998132",
   "metadata": {},
   "source": [
    "## 3. LIMPEZA DOS DADOS"
   ]
  },
  {
   "cell_type": "markdown",
   "id": "ccc00498",
   "metadata": {},
   "source": [
    "### 3.1. Registros duplicados"
   ]
  },
  {
   "cell_type": "code",
   "execution_count": 179,
   "id": "f13dc019",
   "metadata": {
    "ExecuteTime": {
     "end_time": "2022-11-10T17:16:04.049538Z",
     "start_time": "2022-11-10T17:16:03.980490Z"
    }
   },
   "outputs": [
    {
     "data": {
      "text/html": [
       "<div>\n",
       "<style scoped>\n",
       "    .dataframe tbody tr th:only-of-type {\n",
       "        vertical-align: middle;\n",
       "    }\n",
       "\n",
       "    .dataframe tbody tr th {\n",
       "        vertical-align: top;\n",
       "    }\n",
       "\n",
       "    .dataframe thead th {\n",
       "        text-align: right;\n",
       "    }\n",
       "</style>\n",
       "<table border=\"1\" class=\"dataframe\">\n",
       "  <thead>\n",
       "    <tr style=\"text-align: right;\">\n",
       "      <th></th>\n",
       "      <th>Unnamed: 0</th>\n",
       "      <th>id</th>\n",
       "      <th>track_name</th>\n",
       "      <th>size_bytes</th>\n",
       "      <th>currency</th>\n",
       "      <th>price</th>\n",
       "      <th>rating_count_tot</th>\n",
       "      <th>rating_count_ver</th>\n",
       "      <th>user_rating</th>\n",
       "      <th>user_rating_ver</th>\n",
       "      <th>ver</th>\n",
       "      <th>cont_rating</th>\n",
       "      <th>prime_genre</th>\n",
       "      <th>sup_devices.num</th>\n",
       "      <th>ipadSc_urls.num</th>\n",
       "      <th>lang.num</th>\n",
       "      <th>vpp_lic</th>\n",
       "    </tr>\n",
       "  </thead>\n",
       "  <tbody>\n",
       "    <tr>\n",
       "      <th>3319</th>\n",
       "      <td>4000</td>\n",
       "      <td>952877179</td>\n",
       "      <td>VR Roller Coaster</td>\n",
       "      <td>169523200</td>\n",
       "      <td>USD</td>\n",
       "      <td>0.0</td>\n",
       "      <td>107</td>\n",
       "      <td>102</td>\n",
       "      <td>3.5</td>\n",
       "      <td>3.5</td>\n",
       "      <td>2.0.0</td>\n",
       "      <td>4+</td>\n",
       "      <td>Games</td>\n",
       "      <td>37</td>\n",
       "      <td>5</td>\n",
       "      <td>1</td>\n",
       "      <td>1</td>\n",
       "    </tr>\n",
       "    <tr>\n",
       "      <th>5603</th>\n",
       "      <td>7579</td>\n",
       "      <td>1089824278</td>\n",
       "      <td>VR Roller Coaster</td>\n",
       "      <td>240964608</td>\n",
       "      <td>USD</td>\n",
       "      <td>0.0</td>\n",
       "      <td>67</td>\n",
       "      <td>44</td>\n",
       "      <td>3.5</td>\n",
       "      <td>4.0</td>\n",
       "      <td>0.81</td>\n",
       "      <td>4+</td>\n",
       "      <td>Games</td>\n",
       "      <td>38</td>\n",
       "      <td>0</td>\n",
       "      <td>1</td>\n",
       "      <td>1</td>\n",
       "    </tr>\n",
       "    <tr>\n",
       "      <th>7092</th>\n",
       "      <td>10751</td>\n",
       "      <td>1173990889</td>\n",
       "      <td>Mannequin Challenge</td>\n",
       "      <td>109705216</td>\n",
       "      <td>USD</td>\n",
       "      <td>0.0</td>\n",
       "      <td>668</td>\n",
       "      <td>87</td>\n",
       "      <td>3.0</td>\n",
       "      <td>3.0</td>\n",
       "      <td>1.4</td>\n",
       "      <td>9+</td>\n",
       "      <td>Games</td>\n",
       "      <td>37</td>\n",
       "      <td>4</td>\n",
       "      <td>1</td>\n",
       "      <td>1</td>\n",
       "    </tr>\n",
       "    <tr>\n",
       "      <th>7128</th>\n",
       "      <td>10885</td>\n",
       "      <td>1178454060</td>\n",
       "      <td>Mannequin Challenge</td>\n",
       "      <td>59572224</td>\n",
       "      <td>USD</td>\n",
       "      <td>0.0</td>\n",
       "      <td>105</td>\n",
       "      <td>58</td>\n",
       "      <td>4.0</td>\n",
       "      <td>4.5</td>\n",
       "      <td>1.0.1</td>\n",
       "      <td>4+</td>\n",
       "      <td>Games</td>\n",
       "      <td>38</td>\n",
       "      <td>5</td>\n",
       "      <td>1</td>\n",
       "      <td>1</td>\n",
       "    </tr>\n",
       "  </tbody>\n",
       "</table>\n",
       "</div>"
      ],
      "text/plain": [
       "      Unnamed: 0          id           track_name  size_bytes currency  price  \\\n",
       "3319        4000   952877179    VR Roller Coaster   169523200      USD    0.0   \n",
       "5603        7579  1089824278    VR Roller Coaster   240964608      USD    0.0   \n",
       "7092       10751  1173990889  Mannequin Challenge   109705216      USD    0.0   \n",
       "7128       10885  1178454060  Mannequin Challenge    59572224      USD    0.0   \n",
       "\n",
       "      rating_count_tot  rating_count_ver  user_rating  user_rating_ver    ver  \\\n",
       "3319               107               102          3.5              3.5  2.0.0   \n",
       "5603                67                44          3.5              4.0   0.81   \n",
       "7092               668                87          3.0              3.0    1.4   \n",
       "7128               105                58          4.0              4.5  1.0.1   \n",
       "\n",
       "     cont_rating prime_genre  sup_devices.num  ipadSc_urls.num  lang.num  \\\n",
       "3319          4+       Games               37                5         1   \n",
       "5603          4+       Games               38                0         1   \n",
       "7092          9+       Games               37                4         1   \n",
       "7128          4+       Games               38                5         1   \n",
       "\n",
       "      vpp_lic  \n",
       "3319        1  \n",
       "5603        1  \n",
       "7092        1  \n",
       "7128        1  "
      ]
     },
     "execution_count": 179,
     "metadata": {},
     "output_type": "execute_result"
    }
   ],
   "source": [
    "# verifica se há registros duplicados\n",
    "df[df['track_name'].duplicated(False) == True]"
   ]
  },
  {
   "cell_type": "markdown",
   "id": "34c6b675",
   "metadata": {},
   "source": [
    "Há registros duplicados, portanto, é necessário removê-los e manter apenas um registro por aplicativo. \n",
    "\n",
    "\n",
    "O critério a ser utilizado para a remoção das linhas duplicadas é manter o registro mais atualizado. Uma coluna que mostra qual linha refere-se a versões mais atuais é a `ver` e a `rating_count_tot`. Iremos utilizar a segunda por ser do tipo inteiro."
   ]
  },
  {
   "cell_type": "code",
   "execution_count": 180,
   "id": "ae4a2100",
   "metadata": {
    "ExecuteTime": {
     "end_time": "2022-11-10T17:16:05.593830Z",
     "start_time": "2022-11-10T17:16:05.552774Z"
    }
   },
   "outputs": [],
   "source": [
    "# ordena os dados de maneira descendente e exclui os registros duplicados mais antigos\n",
    "df = df.sort_values(by = 'rating_count_tot', ascending = False).drop_duplicates('track_name', keep = 'first')\n",
    "\n",
    "# reorganiza os índices\n",
    "df = df.reset_index(drop = True)"
   ]
  },
  {
   "cell_type": "markdown",
   "id": "a59c2581",
   "metadata": {},
   "source": [
    "### 3.2. Avaliações iguais a zero"
   ]
  },
  {
   "cell_type": "code",
   "execution_count": 181,
   "id": "1bdea6d3",
   "metadata": {
    "ExecuteTime": {
     "end_time": "2022-11-10T17:16:06.838595Z",
     "start_time": "2022-11-10T17:16:06.818587Z"
    }
   },
   "outputs": [
    {
     "data": {
      "text/plain": [
       "array([3.5, 4.5, 4. , 3. , 5. , 2.5, 2. , 1.5, 1. , 0. ])"
      ]
     },
     "execution_count": 181,
     "metadata": {},
     "output_type": "execute_result"
    }
   ],
   "source": [
    "# avaliações\n",
    "df['user_rating'].unique()"
   ]
  },
  {
   "cell_type": "code",
   "execution_count": 182,
   "id": "01b1cb79",
   "metadata": {
    "ExecuteTime": {
     "end_time": "2022-11-10T17:16:07.519852Z",
     "start_time": "2022-11-10T17:16:07.500857Z"
    }
   },
   "outputs": [],
   "source": [
    "# remoção dos aplicativos que possuem avaliações iguais a zero\n",
    "df = df.loc[(df['user_rating'] != 0)]"
   ]
  },
  {
   "cell_type": "markdown",
   "id": "179ba3fe",
   "metadata": {},
   "source": [
    "### 3.3. Quantidade de avaliações "
   ]
  },
  {
   "cell_type": "markdown",
   "id": "53ff0d9f",
   "metadata": {},
   "source": [
    "Eu irei analisar apenas os aplicativos que tiverem ao menos 10 avaliações."
   ]
  },
  {
   "cell_type": "code",
   "execution_count": 183,
   "id": "6d00f365",
   "metadata": {
    "ExecuteTime": {
     "end_time": "2022-11-10T17:16:09.387447Z",
     "start_time": "2022-11-10T17:16:09.369433Z"
    }
   },
   "outputs": [],
   "source": [
    "# remoção dos aplicativos que possuem menos de 10 avaliações\n",
    "df = df.loc[(df['rating_count_tot'] >= 10)]"
   ]
  },
  {
   "cell_type": "markdown",
   "id": "f63e8a6a",
   "metadata": {},
   "source": [
    "### 3.4. Suporte a nenhuma linguagem"
   ]
  },
  {
   "cell_type": "markdown",
   "id": "313d7527",
   "metadata": {},
   "source": [
    "Na base de dados consta que há alguns aplicativos que não suportem nenhum idioma, o que é estranho pois se espera que ao menos um idioma o aplicativo possua para passar algumas informações básicas ao usuário. Aplicativos que não suportam nenhum idioma serão retirados da base."
   ]
  },
  {
   "cell_type": "code",
   "execution_count": 184,
   "id": "119e31e8",
   "metadata": {
    "ExecuteTime": {
     "end_time": "2022-11-10T17:16:11.772641Z",
     "start_time": "2022-11-10T17:16:11.754628Z"
    }
   },
   "outputs": [],
   "source": [
    "df = df.loc[(df['lang.num'] != 0)].reset_index(drop = True)"
   ]
  },
  {
   "cell_type": "markdown",
   "id": "0604fa5c",
   "metadata": {},
   "source": [
    "### 3.5. Seleção de colunas"
   ]
  },
  {
   "cell_type": "code",
   "execution_count": 185,
   "id": "8d8a80bb",
   "metadata": {
    "ExecuteTime": {
     "end_time": "2022-11-10T17:16:13.285539Z",
     "start_time": "2022-11-10T17:16:13.268526Z"
    }
   },
   "outputs": [],
   "source": [
    "# remove algumas colunas\n",
    "df.drop(['Unnamed: 0', 'id','currency','ver','sup_devices.num','ipadSc_urls.num','vpp_lic'], axis = 1, inplace = True)"
   ]
  },
  {
   "cell_type": "markdown",
   "id": "daeec6c4",
   "metadata": {},
   "source": [
    "## 4. ANÁLISE EXPLORATÓRIA DE DADOS (EDA)"
   ]
  },
  {
   "cell_type": "markdown",
   "id": "d7371151",
   "metadata": {},
   "source": [
    "### 4.1. Quais são as categorias com o maior número de aplicativos?"
   ]
  },
  {
   "cell_type": "code",
   "execution_count": 186,
   "id": "d2646681",
   "metadata": {
    "ExecuteTime": {
     "end_time": "2022-11-10T17:16:17.112057Z",
     "start_time": "2022-11-10T17:16:15.877586Z"
    }
   },
   "outputs": [
    {
     "data": {
      "image/png": "[encoded data removed]",
      "text/plain": [
       "<Figure size 1152x360 with 1 Axes>"
      ]
     },
     "metadata": {
      "needs_background": "light"
     },
     "output_type": "display_data"
    }
   ],
   "source": [
    "plt.figure(figsize = (16, 5))\n",
    "sns.countplot(data = df, x = 'prime_genre', order = df['prime_genre'].value_counts().index)\n",
    "axis_settings('Categoria', 'Quantidade', x_rotation = 75)\n",
    "plt.title('Total de aplicativos por categoria\\n', size = 18)\n",
    "plt.show()"
   ]
  },
  {
   "cell_type": "markdown",
   "id": "01ee56be",
   "metadata": {},
   "source": [
    "As cinco categorias mais populares são:\n",
    "- Games: 54.3%;\n",
    "- Entertainment: 7.6%;\n",
    "- Education: 6%;\n",
    "- Photo & Video: 5.3%;\n",
    "- Utilities: 3.5%.\n",
    "\n",
    "\n",
    "As outras categorias correspondem a 23.3% da base."
   ]
  },
  {
   "cell_type": "markdown",
   "id": "13caafa0",
   "metadata": {},
   "source": [
    "### 4.2. Qual é a distribuição dos preços dos aplicativos?"
   ]
  },
  {
   "cell_type": "code",
   "execution_count": 198,
   "id": "8f7aedc1",
   "metadata": {
    "ExecuteTime": {
     "end_time": "2022-11-10T17:19:14.506952Z",
     "start_time": "2022-11-10T17:19:13.065927Z"
    }
   },
   "outputs": [
    {
     "data": {
      "image/png": "[encoded data removed]",
      "text/plain": [
       "<Figure size 1152x360 with 1 Axes>"
      ]
     },
     "metadata": {
      "needs_background": "light"
     },
     "output_type": "display_data"
    }
   ],
   "source": [
    "plt.figure(figsize = (16, 5))\n",
    "sns.histplot(data = df, x = 'price', bins = 100)\n",
    "axis_settings('Preço', 'Quantidade', x_rotation = 75)\n",
    "plt.title('Distribuição de preços\\n', size = 18)\n",
    "plt.show()"
   ]
  },
  {
   "cell_type": "markdown",
   "id": "cee44b89",
   "metadata": {},
   "source": [
    "A partir do gráfico acima, é possível notar que a grande maioria dos aplicativos são distribuídos gratuitamente ou com preços inferiores 10 dólares (que correspondem a 98.7% da base). "
   ]
  },
  {
   "cell_type": "markdown",
   "id": "5a937dc2",
   "metadata": {},
   "source": [
    "### 4.3. A loja tem mais aplicativos pagos ou gratuitos?"
   ]
  },
  {
   "cell_type": "code",
   "execution_count": 202,
   "id": "5c716f53",
   "metadata": {
    "ExecuteTime": {
     "end_time": "2022-11-10T17:20:45.207788Z",
     "start_time": "2022-11-10T17:20:44.756695Z"
    }
   },
   "outputs": [
    {
     "data": {
      "image/png": "[encoded data removed]",
      "text/plain": [
       "<Figure size 576x360 with 1 Axes>"
      ]
     },
     "metadata": {
      "needs_background": "light"
     },
     "output_type": "display_data"
    }
   ],
   "source": [
    "aux = df['price'].apply(lambda x: 'Gratuito' if x == 0 else 'Pago')\n",
    "\n",
    "plt.figure(figsize = (8, 5))\n",
    "sns.countplot(x = aux)\n",
    "axis_settings('Tipo', 'Quantidade')\n",
    "plt.title('Gratuito vs. Pago\\n', fontsize = 18)\n",
    "plt.show()"
   ]
  },
  {
   "cell_type": "markdown",
   "id": "fd75c70d",
   "metadata": {},
   "source": [
    "A maior parte dos aplicativos são oferecidos gratuitamente. \n",
    "\n",
    "\n",
    "Mas como que aplicativos gratuitos geram receita? Bom, resumidamente há muitos aplicativos que oferecem uma versão gratuita e depois cobram por novas funcionalidades, além de também darem espaço para publicidade. Este [link](https://bloomidea.com/blog/5-modelos-de-negocio-para-apps) explica melhor os cinco modelos de negócio mais utilizados."
   ]
  },
  {
   "cell_type": "markdown",
   "id": "d6545a46",
   "metadata": {},
   "source": [
    "### 4.4. Quais são os 5 aplicativos mais utilizados?"
   ]
  },
  {
   "cell_type": "code",
   "execution_count": 203,
   "id": "e6cd0955",
   "metadata": {
    "ExecuteTime": {
     "end_time": "2022-11-10T17:20:53.574327Z",
     "start_time": "2022-11-10T17:20:52.864796Z"
    }
   },
   "outputs": [
    {
     "data": {
      "image/png": "[encoded data removed]",
      "text/plain": [
       "<Figure size 1008x360 with 1 Axes>"
      ]
     },
     "metadata": {
      "needs_background": "light"
     },
     "output_type": "display_data"
    }
   ],
   "source": [
    "# seleciona os cinco aplicativos com mais avaliações\n",
    "aux = df.sort_values(by = 'rating_count_tot', ascending = False).head(5)\n",
    "\n",
    "# gráfico\n",
    "plt.figure(figsize = (14, 5))\n",
    "sns.barplot(data = aux, x = 'rating_count_tot', y = 'track_name')\n",
    "axis_settings('Quantidade', 'Aplicativos')\n",
    "plt.title('Aplicativos mais utilizados\\n', fontsize = 18)\n",
    "plt.show()"
   ]
  },
  {
   "cell_type": "markdown",
   "id": "a1f74564",
   "metadata": {},
   "source": [
    "### 4.5. Quais são os 5 aplicativos menos utilizados?"
   ]
  },
  {
   "cell_type": "code",
   "execution_count": 204,
   "id": "8f52cf0a",
   "metadata": {
    "ExecuteTime": {
     "end_time": "2022-11-10T17:20:54.118595Z",
     "start_time": "2022-11-10T17:20:54.099554Z"
    }
   },
   "outputs": [
    {
     "data": {
      "text/plain": [
       "36"
      ]
     },
     "execution_count": 204,
     "metadata": {},
     "output_type": "execute_result"
    }
   ],
   "source": [
    "# aplicativos com a quantidade de avaliações mínimas (iguais a 10)\n",
    "df[df['rating_count_tot'] == 10].shape[0]"
   ]
  },
  {
   "cell_type": "markdown",
   "id": "d827bcd5",
   "metadata": {},
   "source": [
    "Não foi possível buscar os cinco aplicativos menos utilizados, pois há 36 com o quantidade mínima de avaliações (estipulada no problema de negócio). A tabela abaixo mostra as informações desses 36 aplicativos."
   ]
  },
  {
   "cell_type": "code",
   "execution_count": 205,
   "id": "61986434",
   "metadata": {
    "ExecuteTime": {
     "end_time": "2022-11-10T17:20:55.379650Z",
     "start_time": "2022-11-10T17:20:55.289585Z"
    }
   },
   "outputs": [
    {
     "data": {
      "text/html": [
       "<div>\n",
       "<style scoped>\n",
       "    .dataframe tbody tr th:only-of-type {\n",
       "        vertical-align: middle;\n",
       "    }\n",
       "\n",
       "    .dataframe tbody tr th {\n",
       "        vertical-align: top;\n",
       "    }\n",
       "\n",
       "    .dataframe thead th {\n",
       "        text-align: right;\n",
       "    }\n",
       "</style>\n",
       "<table border=\"1\" class=\"dataframe\">\n",
       "  <thead>\n",
       "    <tr style=\"text-align: right;\">\n",
       "      <th></th>\n",
       "      <th>track_name</th>\n",
       "      <th>size_bytes</th>\n",
       "      <th>price</th>\n",
       "      <th>rating_count_tot</th>\n",
       "      <th>rating_count_ver</th>\n",
       "      <th>user_rating</th>\n",
       "      <th>user_rating_ver</th>\n",
       "      <th>cont_rating</th>\n",
       "      <th>prime_genre</th>\n",
       "      <th>lang.num</th>\n",
       "    </tr>\n",
       "  </thead>\n",
       "  <tbody>\n",
       "    <tr>\n",
       "      <th>5801</th>\n",
       "      <td>Risky Rooms</td>\n",
       "      <td>24167424</td>\n",
       "      <td>0.00</td>\n",
       "      <td>10</td>\n",
       "      <td>1</td>\n",
       "      <td>3.5</td>\n",
       "      <td>5.0</td>\n",
       "      <td>4+</td>\n",
       "      <td>Games</td>\n",
       "      <td>1</td>\n",
       "    </tr>\n",
       "    <tr>\n",
       "      <th>5802</th>\n",
       "      <td>The Collider 2</td>\n",
       "      <td>420882432</td>\n",
       "      <td>1.99</td>\n",
       "      <td>10</td>\n",
       "      <td>10</td>\n",
       "      <td>2.0</td>\n",
       "      <td>2.0</td>\n",
       "      <td>4+</td>\n",
       "      <td>Games</td>\n",
       "      <td>1</td>\n",
       "    </tr>\n",
       "    <tr>\n",
       "      <th>5803</th>\n",
       "      <td>The Lorax - Read &amp; Play - Dr. Seuss</td>\n",
       "      <td>91570176</td>\n",
       "      <td>3.99</td>\n",
       "      <td>10</td>\n",
       "      <td>10</td>\n",
       "      <td>4.5</td>\n",
       "      <td>4.5</td>\n",
       "      <td>4+</td>\n",
       "      <td>Book</td>\n",
       "      <td>1</td>\n",
       "    </tr>\n",
       "    <tr>\n",
       "      <th>5804</th>\n",
       "      <td>大根にしがみつく女子高生</td>\n",
       "      <td>93810688</td>\n",
       "      <td>0.00</td>\n",
       "      <td>10</td>\n",
       "      <td>7</td>\n",
       "      <td>5.0</td>\n",
       "      <td>5.0</td>\n",
       "      <td>9+</td>\n",
       "      <td>Games</td>\n",
       "      <td>1</td>\n",
       "    </tr>\n",
       "    <tr>\n",
       "      <th>5805</th>\n",
       "      <td>Elf Pets® Pup — The Elf on the Shelf®</td>\n",
       "      <td>469178368</td>\n",
       "      <td>0.99</td>\n",
       "      <td>10</td>\n",
       "      <td>3</td>\n",
       "      <td>4.5</td>\n",
       "      <td>5.0</td>\n",
       "      <td>4+</td>\n",
       "      <td>Games</td>\n",
       "      <td>1</td>\n",
       "    </tr>\n",
       "    <tr>\n",
       "      <th>5806</th>\n",
       "      <td>WikiCamps Australia</td>\n",
       "      <td>23020544</td>\n",
       "      <td>4.99</td>\n",
       "      <td>10</td>\n",
       "      <td>0</td>\n",
       "      <td>4.5</td>\n",
       "      <td>0.0</td>\n",
       "      <td>4+</td>\n",
       "      <td>Travel</td>\n",
       "      <td>1</td>\n",
       "    </tr>\n",
       "    <tr>\n",
       "      <th>5807</th>\n",
       "      <td>unWorded</td>\n",
       "      <td>350912512</td>\n",
       "      <td>3.99</td>\n",
       "      <td>10</td>\n",
       "      <td>10</td>\n",
       "      <td>4.0</td>\n",
       "      <td>4.0</td>\n",
       "      <td>9+</td>\n",
       "      <td>Games</td>\n",
       "      <td>1</td>\n",
       "    </tr>\n",
       "    <tr>\n",
       "      <th>5808</th>\n",
       "      <td>My8to18</td>\n",
       "      <td>10645504</td>\n",
       "      <td>0.00</td>\n",
       "      <td>10</td>\n",
       "      <td>0</td>\n",
       "      <td>1.0</td>\n",
       "      <td>0.0</td>\n",
       "      <td>4+</td>\n",
       "      <td>Sports</td>\n",
       "      <td>9</td>\n",
       "    </tr>\n",
       "    <tr>\n",
       "      <th>5809</th>\n",
       "      <td>Read with Doc: Word Building</td>\n",
       "      <td>950553600</td>\n",
       "      <td>2.99</td>\n",
       "      <td>10</td>\n",
       "      <td>3</td>\n",
       "      <td>4.0</td>\n",
       "      <td>3.5</td>\n",
       "      <td>4+</td>\n",
       "      <td>Education</td>\n",
       "      <td>1</td>\n",
       "    </tr>\n",
       "    <tr>\n",
       "      <th>5810</th>\n",
       "      <td>カロリー管理（痩せるアプリ）</td>\n",
       "      <td>44402688</td>\n",
       "      <td>3.99</td>\n",
       "      <td>10</td>\n",
       "      <td>0</td>\n",
       "      <td>4.5</td>\n",
       "      <td>0.0</td>\n",
       "      <td>17+</td>\n",
       "      <td>Health &amp; Fitness</td>\n",
       "      <td>1</td>\n",
       "    </tr>\n",
       "    <tr>\n",
       "      <th>5811</th>\n",
       "      <td>熊猫直播HD-最娱乐的直播平台</td>\n",
       "      <td>25325568</td>\n",
       "      <td>0.00</td>\n",
       "      <td>10</td>\n",
       "      <td>0</td>\n",
       "      <td>2.0</td>\n",
       "      <td>0.0</td>\n",
       "      <td>12+</td>\n",
       "      <td>Entertainment</td>\n",
       "      <td>2</td>\n",
       "    </tr>\n",
       "    <tr>\n",
       "      <th>5812</th>\n",
       "      <td>Streets – Street View Browser</td>\n",
       "      <td>26762240</td>\n",
       "      <td>1.99</td>\n",
       "      <td>10</td>\n",
       "      <td>1</td>\n",
       "      <td>4.5</td>\n",
       "      <td>2.0</td>\n",
       "      <td>4+</td>\n",
       "      <td>Navigation</td>\n",
       "      <td>3</td>\n",
       "    </tr>\n",
       "    <tr>\n",
       "      <th>5813</th>\n",
       "      <td>Juju on that Beat Challenge</td>\n",
       "      <td>41964544</td>\n",
       "      <td>0.00</td>\n",
       "      <td>10</td>\n",
       "      <td>3</td>\n",
       "      <td>4.0</td>\n",
       "      <td>5.0</td>\n",
       "      <td>4+</td>\n",
       "      <td>Games</td>\n",
       "      <td>1</td>\n",
       "    </tr>\n",
       "    <tr>\n",
       "      <th>5814</th>\n",
       "      <td>Free QR Code Reader simply to scan a QR Code</td>\n",
       "      <td>12190720</td>\n",
       "      <td>0.00</td>\n",
       "      <td>10</td>\n",
       "      <td>6</td>\n",
       "      <td>5.0</td>\n",
       "      <td>5.0</td>\n",
       "      <td>4+</td>\n",
       "      <td>Productivity</td>\n",
       "      <td>2</td>\n",
       "    </tr>\n",
       "    <tr>\n",
       "      <th>5815</th>\n",
       "      <td>Sinless: Remastered</td>\n",
       "      <td>1238026240</td>\n",
       "      <td>1.99</td>\n",
       "      <td>10</td>\n",
       "      <td>10</td>\n",
       "      <td>3.5</td>\n",
       "      <td>3.5</td>\n",
       "      <td>9+</td>\n",
       "      <td>Games</td>\n",
       "      <td>1</td>\n",
       "    </tr>\n",
       "    <tr>\n",
       "      <th>5816</th>\n",
       "      <td>Tube Heroes Racers</td>\n",
       "      <td>303671296</td>\n",
       "      <td>1.99</td>\n",
       "      <td>10</td>\n",
       "      <td>0</td>\n",
       "      <td>4.5</td>\n",
       "      <td>0.0</td>\n",
       "      <td>4+</td>\n",
       "      <td>Games</td>\n",
       "      <td>1</td>\n",
       "    </tr>\n",
       "    <tr>\n",
       "      <th>5817</th>\n",
       "      <td>借贷宝-直投熟人更高明</td>\n",
       "      <td>74248192</td>\n",
       "      <td>0.00</td>\n",
       "      <td>10</td>\n",
       "      <td>0</td>\n",
       "      <td>3.5</td>\n",
       "      <td>0.0</td>\n",
       "      <td>4+</td>\n",
       "      <td>Finance</td>\n",
       "      <td>2</td>\n",
       "    </tr>\n",
       "    <tr>\n",
       "      <th>5818</th>\n",
       "      <td>WeDJ for iPad</td>\n",
       "      <td>29427712</td>\n",
       "      <td>4.99</td>\n",
       "      <td>10</td>\n",
       "      <td>0</td>\n",
       "      <td>4.0</td>\n",
       "      <td>0.0</td>\n",
       "      <td>4+</td>\n",
       "      <td>Music</td>\n",
       "      <td>2</td>\n",
       "    </tr>\n",
       "    <tr>\n",
       "      <th>5819</th>\n",
       "      <td>Peatix -Discover events &amp; communities in your ...</td>\n",
       "      <td>84125696</td>\n",
       "      <td>0.00</td>\n",
       "      <td>10</td>\n",
       "      <td>0</td>\n",
       "      <td>3.0</td>\n",
       "      <td>0.0</td>\n",
       "      <td>4+</td>\n",
       "      <td>Entertainment</td>\n",
       "      <td>2</td>\n",
       "    </tr>\n",
       "    <tr>\n",
       "      <th>5820</th>\n",
       "      <td>Free-Motion Quilting Idea App</td>\n",
       "      <td>261696512</td>\n",
       "      <td>2.99</td>\n",
       "      <td>10</td>\n",
       "      <td>4</td>\n",
       "      <td>2.0</td>\n",
       "      <td>1.5</td>\n",
       "      <td>17+</td>\n",
       "      <td>Education</td>\n",
       "      <td>1</td>\n",
       "    </tr>\n",
       "    <tr>\n",
       "      <th>5821</th>\n",
       "      <td>Chick Go &amp; Climb</td>\n",
       "      <td>55657472</td>\n",
       "      <td>0.00</td>\n",
       "      <td>10</td>\n",
       "      <td>0</td>\n",
       "      <td>4.5</td>\n",
       "      <td>0.0</td>\n",
       "      <td>4+</td>\n",
       "      <td>Games</td>\n",
       "      <td>8</td>\n",
       "    </tr>\n",
       "    <tr>\n",
       "      <th>5822</th>\n",
       "      <td>VR-Crazy Car Traffic Racing</td>\n",
       "      <td>210149376</td>\n",
       "      <td>0.00</td>\n",
       "      <td>10</td>\n",
       "      <td>1</td>\n",
       "      <td>2.0</td>\n",
       "      <td>5.0</td>\n",
       "      <td>4+</td>\n",
       "      <td>Games</td>\n",
       "      <td>1</td>\n",
       "    </tr>\n",
       "    <tr>\n",
       "      <th>5823</th>\n",
       "      <td>Catch the Bus</td>\n",
       "      <td>371298304</td>\n",
       "      <td>0.00</td>\n",
       "      <td>10</td>\n",
       "      <td>4</td>\n",
       "      <td>3.0</td>\n",
       "      <td>3.5</td>\n",
       "      <td>4+</td>\n",
       "      <td>Games</td>\n",
       "      <td>1</td>\n",
       "    </tr>\n",
       "    <tr>\n",
       "      <th>5824</th>\n",
       "      <td>Dark Dimensions: Homecoming - A Hidden Object ...</td>\n",
       "      <td>1331671040</td>\n",
       "      <td>2.99</td>\n",
       "      <td>10</td>\n",
       "      <td>10</td>\n",
       "      <td>2.5</td>\n",
       "      <td>2.5</td>\n",
       "      <td>9+</td>\n",
       "      <td>Games</td>\n",
       "      <td>3</td>\n",
       "    </tr>\n",
       "    <tr>\n",
       "      <th>5825</th>\n",
       "      <td>Emergency Surgery Simulator - Doctor Game FOR ...</td>\n",
       "      <td>72299520</td>\n",
       "      <td>0.00</td>\n",
       "      <td>10</td>\n",
       "      <td>10</td>\n",
       "      <td>3.0</td>\n",
       "      <td>3.0</td>\n",
       "      <td>12+</td>\n",
       "      <td>Games</td>\n",
       "      <td>2</td>\n",
       "    </tr>\n",
       "    <tr>\n",
       "      <th>5826</th>\n",
       "      <td>Quizduell</td>\n",
       "      <td>118291456</td>\n",
       "      <td>0.00</td>\n",
       "      <td>10</td>\n",
       "      <td>0</td>\n",
       "      <td>2.5</td>\n",
       "      <td>0.0</td>\n",
       "      <td>4+</td>\n",
       "      <td>Games</td>\n",
       "      <td>22</td>\n",
       "    </tr>\n",
       "    <tr>\n",
       "      <th>5827</th>\n",
       "      <td>Stick &amp; MojiMe New</td>\n",
       "      <td>64851968</td>\n",
       "      <td>0.99</td>\n",
       "      <td>10</td>\n",
       "      <td>0</td>\n",
       "      <td>1.5</td>\n",
       "      <td>0.0</td>\n",
       "      <td>12+</td>\n",
       "      <td>Lifestyle</td>\n",
       "      <td>1</td>\n",
       "    </tr>\n",
       "    <tr>\n",
       "      <th>5828</th>\n",
       "      <td>Suica</td>\n",
       "      <td>24804352</td>\n",
       "      <td>0.00</td>\n",
       "      <td>10</td>\n",
       "      <td>0</td>\n",
       "      <td>1.5</td>\n",
       "      <td>0.0</td>\n",
       "      <td>4+</td>\n",
       "      <td>Finance</td>\n",
       "      <td>2</td>\n",
       "    </tr>\n",
       "    <tr>\n",
       "      <th>5829</th>\n",
       "      <td>放置江湖: 大侠的成长之路（高自由度的武侠体验）</td>\n",
       "      <td>89223168</td>\n",
       "      <td>0.99</td>\n",
       "      <td>10</td>\n",
       "      <td>2</td>\n",
       "      <td>2.0</td>\n",
       "      <td>5.0</td>\n",
       "      <td>4+</td>\n",
       "      <td>Games</td>\n",
       "      <td>1</td>\n",
       "    </tr>\n",
       "    <tr>\n",
       "      <th>5830</th>\n",
       "      <td>Tokyo Wizard</td>\n",
       "      <td>23376896</td>\n",
       "      <td>2.99</td>\n",
       "      <td>10</td>\n",
       "      <td>10</td>\n",
       "      <td>4.0</td>\n",
       "      <td>4.0</td>\n",
       "      <td>12+</td>\n",
       "      <td>Games</td>\n",
       "      <td>1</td>\n",
       "    </tr>\n",
       "    <tr>\n",
       "      <th>5831</th>\n",
       "      <td>マクドナルド - McDonald's Japan</td>\n",
       "      <td>61166592</td>\n",
       "      <td>0.00</td>\n",
       "      <td>10</td>\n",
       "      <td>0</td>\n",
       "      <td>3.0</td>\n",
       "      <td>0.0</td>\n",
       "      <td>4+</td>\n",
       "      <td>Food &amp; Drink</td>\n",
       "      <td>1</td>\n",
       "    </tr>\n",
       "    <tr>\n",
       "      <th>5832</th>\n",
       "      <td>Road watcher: dash camera, car video recorder.</td>\n",
       "      <td>6329344</td>\n",
       "      <td>0.99</td>\n",
       "      <td>10</td>\n",
       "      <td>9</td>\n",
       "      <td>3.0</td>\n",
       "      <td>3.0</td>\n",
       "      <td>4+</td>\n",
       "      <td>Navigation</td>\n",
       "      <td>7</td>\n",
       "    </tr>\n",
       "    <tr>\n",
       "      <th>5833</th>\n",
       "      <td>Room Escape Game - Santa's Room</td>\n",
       "      <td>143346688</td>\n",
       "      <td>0.00</td>\n",
       "      <td>10</td>\n",
       "      <td>10</td>\n",
       "      <td>5.0</td>\n",
       "      <td>5.0</td>\n",
       "      <td>4+</td>\n",
       "      <td>Games</td>\n",
       "      <td>1</td>\n",
       "    </tr>\n",
       "    <tr>\n",
       "      <th>5834</th>\n",
       "      <td>Shopkins: Top Trumps</td>\n",
       "      <td>278928384</td>\n",
       "      <td>2.99</td>\n",
       "      <td>10</td>\n",
       "      <td>10</td>\n",
       "      <td>3.0</td>\n",
       "      <td>3.0</td>\n",
       "      <td>4+</td>\n",
       "      <td>Games</td>\n",
       "      <td>1</td>\n",
       "    </tr>\n",
       "    <tr>\n",
       "      <th>5835</th>\n",
       "      <td>Book - room escape game -</td>\n",
       "      <td>71790592</td>\n",
       "      <td>0.00</td>\n",
       "      <td>10</td>\n",
       "      <td>10</td>\n",
       "      <td>5.0</td>\n",
       "      <td>5.0</td>\n",
       "      <td>4+</td>\n",
       "      <td>Games</td>\n",
       "      <td>1</td>\n",
       "    </tr>\n",
       "    <tr>\n",
       "      <th>5836</th>\n",
       "      <td>Pyware 3D Viewer</td>\n",
       "      <td>82898944</td>\n",
       "      <td>2.99</td>\n",
       "      <td>10</td>\n",
       "      <td>2</td>\n",
       "      <td>3.5</td>\n",
       "      <td>4.5</td>\n",
       "      <td>4+</td>\n",
       "      <td>Music</td>\n",
       "      <td>1</td>\n",
       "    </tr>\n",
       "  </tbody>\n",
       "</table>\n",
       "</div>"
      ],
      "text/plain": [
       "                                             track_name  size_bytes  price  \\\n",
       "5801                                        Risky Rooms    24167424   0.00   \n",
       "5802                                     The Collider 2   420882432   1.99   \n",
       "5803                The Lorax - Read & Play - Dr. Seuss    91570176   3.99   \n",
       "5804                                       大根にしがみつく女子高生    93810688   0.00   \n",
       "5805              Elf Pets® Pup — The Elf on the Shelf®   469178368   0.99   \n",
       "5806                                WikiCamps Australia    23020544   4.99   \n",
       "5807                                           unWorded   350912512   3.99   \n",
       "5808                                            My8to18    10645504   0.00   \n",
       "5809                       Read with Doc: Word Building   950553600   2.99   \n",
       "5810                                     カロリー管理（痩せるアプリ）    44402688   3.99   \n",
       "5811                                    熊猫直播HD-最娱乐的直播平台    25325568   0.00   \n",
       "5812                      Streets – Street View Browser    26762240   1.99   \n",
       "5813                        Juju on that Beat Challenge    41964544   0.00   \n",
       "5814       Free QR Code Reader simply to scan a QR Code    12190720   0.00   \n",
       "5815                                Sinless: Remastered  1238026240   1.99   \n",
       "5816                                 Tube Heroes Racers   303671296   1.99   \n",
       "5817                                        借贷宝-直投熟人更高明    74248192   0.00   \n",
       "5818                                      WeDJ for iPad    29427712   4.99   \n",
       "5819  Peatix -Discover events & communities in your ...    84125696   0.00   \n",
       "5820                      Free-Motion Quilting Idea App   261696512   2.99   \n",
       "5821                                   Chick Go & Climb    55657472   0.00   \n",
       "5822                        VR-Crazy Car Traffic Racing   210149376   0.00   \n",
       "5823                                      Catch the Bus   371298304   0.00   \n",
       "5824  Dark Dimensions: Homecoming - A Hidden Object ...  1331671040   2.99   \n",
       "5825  Emergency Surgery Simulator - Doctor Game FOR ...    72299520   0.00   \n",
       "5826                                          Quizduell   118291456   0.00   \n",
       "5827                                 Stick & MojiMe New    64851968   0.99   \n",
       "5828                                              Suica    24804352   0.00   \n",
       "5829                           放置江湖: 大侠的成长之路（高自由度的武侠体验）    89223168   0.99   \n",
       "5830                                       Tokyo Wizard    23376896   2.99   \n",
       "5831                          マクドナルド - McDonald's Japan    61166592   0.00   \n",
       "5832     Road watcher: dash camera, car video recorder.     6329344   0.99   \n",
       "5833                    Room Escape Game - Santa's Room   143346688   0.00   \n",
       "5834                               Shopkins: Top Trumps   278928384   2.99   \n",
       "5835                          Book - room escape game -    71790592   0.00   \n",
       "5836                                   Pyware 3D Viewer    82898944   2.99   \n",
       "\n",
       "      rating_count_tot  rating_count_ver  user_rating  user_rating_ver  \\\n",
       "5801                10                 1          3.5              5.0   \n",
       "5802                10                10          2.0              2.0   \n",
       "5803                10                10          4.5              4.5   \n",
       "5804                10                 7          5.0              5.0   \n",
       "5805                10                 3          4.5              5.0   \n",
       "5806                10                 0          4.5              0.0   \n",
       "5807                10                10          4.0              4.0   \n",
       "5808                10                 0          1.0              0.0   \n",
       "5809                10                 3          4.0              3.5   \n",
       "5810                10                 0          4.5              0.0   \n",
       "5811                10                 0          2.0              0.0   \n",
       "5812                10                 1          4.5              2.0   \n",
       "5813                10                 3          4.0              5.0   \n",
       "5814                10                 6          5.0              5.0   \n",
       "5815                10                10          3.5              3.5   \n",
       "5816                10                 0          4.5              0.0   \n",
       "5817                10                 0          3.5              0.0   \n",
       "5818                10                 0          4.0              0.0   \n",
       "5819                10                 0          3.0              0.0   \n",
       "5820                10                 4          2.0              1.5   \n",
       "5821                10                 0          4.5              0.0   \n",
       "5822                10                 1          2.0              5.0   \n",
       "5823                10                 4          3.0              3.5   \n",
       "5824                10                10          2.5              2.5   \n",
       "5825                10                10          3.0              3.0   \n",
       "5826                10                 0          2.5              0.0   \n",
       "5827                10                 0          1.5              0.0   \n",
       "5828                10                 0          1.5              0.0   \n",
       "5829                10                 2          2.0              5.0   \n",
       "5830                10                10          4.0              4.0   \n",
       "5831                10                 0          3.0              0.0   \n",
       "5832                10                 9          3.0              3.0   \n",
       "5833                10                10          5.0              5.0   \n",
       "5834                10                10          3.0              3.0   \n",
       "5835                10                10          5.0              5.0   \n",
       "5836                10                 2          3.5              4.5   \n",
       "\n",
       "     cont_rating       prime_genre  lang.num  \n",
       "5801          4+             Games         1  \n",
       "5802          4+             Games         1  \n",
       "5803          4+              Book         1  \n",
       "5804          9+             Games         1  \n",
       "5805          4+             Games         1  \n",
       "5806          4+            Travel         1  \n",
       "5807          9+             Games         1  \n",
       "5808          4+            Sports         9  \n",
       "5809          4+         Education         1  \n",
       "5810         17+  Health & Fitness         1  \n",
       "5811         12+     Entertainment         2  \n",
       "5812          4+        Navigation         3  \n",
       "5813          4+             Games         1  \n",
       "5814          4+      Productivity         2  \n",
       "5815          9+             Games         1  \n",
       "5816          4+             Games         1  \n",
       "5817          4+           Finance         2  \n",
       "5818          4+             Music         2  \n",
       "5819          4+     Entertainment         2  \n",
       "5820         17+         Education         1  \n",
       "5821          4+             Games         8  \n",
       "5822          4+             Games         1  \n",
       "5823          4+             Games         1  \n",
       "5824          9+             Games         3  \n",
       "5825         12+             Games         2  \n",
       "5826          4+             Games        22  \n",
       "5827         12+         Lifestyle         1  \n",
       "5828          4+           Finance         2  \n",
       "5829          4+             Games         1  \n",
       "5830         12+             Games         1  \n",
       "5831          4+      Food & Drink         1  \n",
       "5832          4+        Navigation         7  \n",
       "5833          4+             Games         1  \n",
       "5834          4+             Games         1  \n",
       "5835          4+             Games         1  \n",
       "5836          4+             Music         1  "
      ]
     },
     "execution_count": 205,
     "metadata": {},
     "output_type": "execute_result"
    }
   ],
   "source": [
    "# aplicativos\n",
    "df[df['rating_count_tot'] == 10]"
   ]
  },
  {
   "cell_type": "markdown",
   "id": "592f2b39",
   "metadata": {},
   "source": [
    "### 4.6. Qual é a distribuição das notas?"
   ]
  },
  {
   "cell_type": "code",
   "execution_count": 206,
   "id": "444c0390",
   "metadata": {
    "ExecuteTime": {
     "end_time": "2022-11-10T17:21:12.265923Z",
     "start_time": "2022-11-10T17:21:11.621072Z"
    }
   },
   "outputs": [
    {
     "data": {
      "image/png": "[encoded data removed]",
      "text/plain": [
       "<Figure size 1152x360 with 1 Axes>"
      ]
     },
     "metadata": {
      "needs_background": "light"
     },
     "output_type": "display_data"
    }
   ],
   "source": [
    "plt.figure(figsize = (16, 5))\n",
    "sns.countplot(data = df, x = 'user_rating')\n",
    "axis_settings('Avaliação', 'Quantidade')\n",
    "plt.title('Distribuição das avaliações\\n', fontsize = 18)\n",
    "plt.show()"
   ]
  },
  {
   "cell_type": "markdown",
   "id": "6644ee24",
   "metadata": {
    "ExecuteTime": {
     "end_time": "2022-11-10T14:17:19.369409Z",
     "start_time": "2022-11-10T14:17:19.353396Z"
    }
   },
   "source": [
    "A maior parte dos aplicativos possuem avaliação média entre 3.5 e 4.5 (que correspondem a 82.4% da base)."
   ]
  },
  {
   "cell_type": "markdown",
   "id": "4f0a765c",
   "metadata": {},
   "source": [
    "### 4.7. Quais são as categorias mais bem avaliadas?"
   ]
  },
  {
   "cell_type": "code",
   "execution_count": 207,
   "id": "d7c9d055",
   "metadata": {
    "ExecuteTime": {
     "end_time": "2022-11-10T17:21:17.459362Z",
     "start_time": "2022-11-10T17:21:16.250048Z"
    }
   },
   "outputs": [
    {
     "data": {
      "image/png": "[encoded data removed]",
      "text/plain": [
       "<Figure size 1152x360 with 1 Axes>"
      ]
     },
     "metadata": {
      "needs_background": "light"
     },
     "output_type": "display_data"
    }
   ],
   "source": [
    "aux = df.groupby(by = 'prime_genre').mean().reset_index()[['prime_genre', 'user_rating']].sort_values(by = 'user_rating', ascending = False)\n",
    "\n",
    "# gráfico\n",
    "plt.figure(figsize = (16, 5))\n",
    "sns.barplot(data = aux, x = 'prime_genre', y = 'user_rating')\n",
    "axis_settings('Aplicativos', 'Avaliação', x_rotation = 75)\n",
    "plt.title('Avaliação média de cada categoria\\n', fontsize = 18)\n",
    "plt.show()"
   ]
  },
  {
   "cell_type": "markdown",
   "id": "c9deded8",
   "metadata": {},
   "source": [
    "As cinco categorias que possuem as maiores avaliações médias são:"
   ]
  },
  {
   "cell_type": "code",
   "execution_count": 209,
   "id": "4e17668a",
   "metadata": {
    "ExecuteTime": {
     "end_time": "2022-11-10T17:21:22.177483Z",
     "start_time": "2022-11-10T17:21:22.150467Z"
    }
   },
   "outputs": [
    {
     "data": {
      "text/html": [
       "<div>\n",
       "<style scoped>\n",
       "    .dataframe tbody tr th:only-of-type {\n",
       "        vertical-align: middle;\n",
       "    }\n",
       "\n",
       "    .dataframe tbody tr th {\n",
       "        vertical-align: top;\n",
       "    }\n",
       "\n",
       "    .dataframe thead th {\n",
       "        text-align: right;\n",
       "    }\n",
       "</style>\n",
       "<table border=\"1\" class=\"dataframe\">\n",
       "  <thead>\n",
       "    <tr style=\"text-align: right;\">\n",
       "      <th></th>\n",
       "      <th>prime_genre</th>\n",
       "      <th>user_rating</th>\n",
       "    </tr>\n",
       "  </thead>\n",
       "  <tbody>\n",
       "    <tr>\n",
       "      <th>0</th>\n",
       "      <td>Book</td>\n",
       "      <td>4.230000</td>\n",
       "    </tr>\n",
       "    <tr>\n",
       "      <th>1</th>\n",
       "      <td>Health &amp; Fitness</td>\n",
       "      <td>4.228188</td>\n",
       "    </tr>\n",
       "    <tr>\n",
       "      <th>2</th>\n",
       "      <td>Games</td>\n",
       "      <td>4.206402</td>\n",
       "    </tr>\n",
       "    <tr>\n",
       "      <th>3</th>\n",
       "      <td>Catalogs</td>\n",
       "      <td>4.200000</td>\n",
       "    </tr>\n",
       "    <tr>\n",
       "      <th>4</th>\n",
       "      <td>Reference</td>\n",
       "      <td>4.173469</td>\n",
       "    </tr>\n",
       "  </tbody>\n",
       "</table>\n",
       "</div>"
      ],
      "text/plain": [
       "        prime_genre  user_rating\n",
       "0              Book     4.230000\n",
       "1  Health & Fitness     4.228188\n",
       "2             Games     4.206402\n",
       "3          Catalogs     4.200000\n",
       "4         Reference     4.173469"
      ]
     },
     "execution_count": 209,
     "metadata": {},
     "output_type": "execute_result"
    }
   ],
   "source": [
    "aux.reset_index(drop = True)[0:5]"
   ]
  },
  {
   "cell_type": "markdown",
   "id": "01299b51",
   "metadata": {},
   "source": [
    "### 4.8. Quais são as categorias com as piores avaliações"
   ]
  },
  {
   "cell_type": "markdown",
   "id": "6f916555",
   "metadata": {},
   "source": [
    "O gráfico do item 4.7 mostra as avaliações médias de todas as categorias, incluindo as com as piores avaliações, as quais são: "
   ]
  },
  {
   "cell_type": "code",
   "execution_count": 210,
   "id": "ae827c9f",
   "metadata": {
    "ExecuteTime": {
     "end_time": "2022-11-10T17:21:23.722457Z",
     "start_time": "2022-11-10T17:21:23.695442Z"
    }
   },
   "outputs": [
    {
     "data": {
      "text/html": [
       "<div>\n",
       "<style scoped>\n",
       "    .dataframe tbody tr th:only-of-type {\n",
       "        vertical-align: middle;\n",
       "    }\n",
       "\n",
       "    .dataframe tbody tr th {\n",
       "        vertical-align: top;\n",
       "    }\n",
       "\n",
       "    .dataframe thead th {\n",
       "        text-align: right;\n",
       "    }\n",
       "</style>\n",
       "<table border=\"1\" class=\"dataframe\">\n",
       "  <thead>\n",
       "    <tr style=\"text-align: right;\">\n",
       "      <th></th>\n",
       "      <th>prime_genre</th>\n",
       "      <th>user_rating</th>\n",
       "    </tr>\n",
       "  </thead>\n",
       "  <tbody>\n",
       "    <tr>\n",
       "      <th>18</th>\n",
       "      <td>News</td>\n",
       "      <td>3.725000</td>\n",
       "    </tr>\n",
       "    <tr>\n",
       "      <th>19</th>\n",
       "      <td>Entertainment</td>\n",
       "      <td>3.677201</td>\n",
       "    </tr>\n",
       "    <tr>\n",
       "      <th>20</th>\n",
       "      <td>Lifestyle</td>\n",
       "      <td>3.632353</td>\n",
       "    </tr>\n",
       "    <tr>\n",
       "      <th>21</th>\n",
       "      <td>Finance</td>\n",
       "      <td>3.590164</td>\n",
       "    </tr>\n",
       "    <tr>\n",
       "      <th>22</th>\n",
       "      <td>Sports</td>\n",
       "      <td>3.421053</td>\n",
       "    </tr>\n",
       "  </tbody>\n",
       "</table>\n",
       "</div>"
      ],
      "text/plain": [
       "      prime_genre  user_rating\n",
       "18           News     3.725000\n",
       "19  Entertainment     3.677201\n",
       "20      Lifestyle     3.632353\n",
       "21        Finance     3.590164\n",
       "22         Sports     3.421053"
      ]
     },
     "execution_count": 210,
     "metadata": {},
     "output_type": "execute_result"
    }
   ],
   "source": [
    "aux.reset_index(drop = True)[-5:]"
   ]
  },
  {
   "cell_type": "markdown",
   "id": "d8d20d0e",
   "metadata": {},
   "source": [
    "### 4.9. Os aplicativos são direcionados para quais faixa etárias?"
   ]
  },
  {
   "cell_type": "code",
   "execution_count": 211,
   "id": "659c0916",
   "metadata": {
    "ExecuteTime": {
     "end_time": "2022-11-10T17:21:26.045791Z",
     "start_time": "2022-11-10T17:21:25.523814Z"
    }
   },
   "outputs": [
    {
     "data": {
      "image/png": "[encoded data removed]",
      "text/plain": [
       "<Figure size 1152x360 with 1 Axes>"
      ]
     },
     "metadata": {
      "needs_background": "light"
     },
     "output_type": "display_data"
    }
   ],
   "source": [
    "# ordem\n",
    "order = ['4+', '9+', '12+', '17+']\n",
    "\n",
    "# gráfico\n",
    "plt.figure(figsize = (16, 5))\n",
    "sns.countplot(data = df, x = 'cont_rating', order = order)\n",
    "axis_settings('Faixa etária', 'Quantidade', x_rotation = 75)\n",
    "plt.title('Distribuição de faixa etária\\n', fontsize = 18)\n",
    "plt.show()"
   ]
  },
  {
   "cell_type": "markdown",
   "id": "ec91d1b6",
   "metadata": {},
   "source": [
    "Cerca de 62.4% dos aplicativos possuem classificação a partir dos 4 anos."
   ]
  },
  {
   "cell_type": "markdown",
   "id": "3d563109",
   "metadata": {},
   "source": [
    "### 4.10. Aplicativos com disponíveis para vários idiomas costumam serem mais bem avaliados?"
   ]
  },
  {
   "cell_type": "markdown",
   "id": "f3037ed3",
   "metadata": {},
   "source": []
  },
  {
   "cell_type": "code",
   "execution_count": 212,
   "id": "4343a4b6",
   "metadata": {
    "ExecuteTime": {
     "end_time": "2022-11-10T17:21:39.981233Z",
     "start_time": "2022-11-10T17:21:35.803088Z"
    }
   },
   "outputs": [
    {
     "data": {
      "image/png": "[encoded data removed]",
      "text/plain": [
       "<Figure size 1152x360 with 1 Axes>"
      ]
     },
     "metadata": {
      "needs_background": "light"
     },
     "output_type": "display_data"
    }
   ],
   "source": [
    "# gráfico\n",
    "plt.figure(figsize = (16, 5))\n",
    "sns.countplot(data = df, x = 'lang.num')\n",
    "#axis_settings('Faixa etária', 'Quantidade', x_rotation = 75)\n",
    "#plt.title('Distribuição de faixa etária\\n', fontsize = 18)\n",
    "plt.show()"
   ]
  },
  {
   "cell_type": "markdown",
   "id": "79139337",
   "metadata": {},
   "source": [
    "- Cerca de 51.1% dos aplicativos suportam apenas um idioma;\n",
    "- Aproximadamente 6.1% dos aplicativos suportam mais de 20 indiomas."
   ]
  }
 ],
 "metadata": {
  "kernelspec": {
   "display_name": "Python 3 (ipykernel)",
   "language": "python",
   "name": "python3"
  },
  "language_info": {
   "codemirror_mode": {
    "name": "ipython",
    "version": 3
   },
   "file_extension": ".py",
   "mimetype": "text/x-python",
   "name": "python",
   "nbconvert_exporter": "python",
   "pygments_lexer": "ipython3",
   "version": "3.10.5"
  }
 },
 "nbformat": 4,
 "nbformat_minor": 5
}
